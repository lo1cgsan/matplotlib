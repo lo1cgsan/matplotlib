{
 "cells": [
  {
   "cell_type": "code",
   "execution_count": 1,
   "id": "7a9afb22",
   "metadata": {},
   "outputs": [],
   "source": [
    "# tryb iteraktywny\n",
    "%matplotlib widget"
   ]
  },
  {
   "cell_type": "code",
   "execution_count": null,
   "id": "ea9ade87",
   "metadata": {},
   "outputs": [],
   "source": [
    "# tryb standardowy\n",
    "%matplotlib inline"
   ]
  },
  {
   "cell_type": "code",
   "execution_count": null,
   "id": "6226f90e",
   "metadata": {},
   "outputs": [],
   "source": [
    "import matplotlib.pyplot as plt\n",
    "import numpy as np"
   ]
  },
  {
   "cell_type": "code",
   "execution_count": 9,
   "id": "49ad36be",
   "metadata": {},
   "outputs": [],
   "source": [
    "# funkcja sinus\n",
    "x = np.arange(0.0, 100.0, 1)\n",
    "y = 5 * np.sin(0.1 * np.pi * x)\n",
    "plt.title('Wykres: y = 5 * sin(0.1 * PI * x)')\n",
    "plt.plot(x, y)\n",
    "plt.show()"
   ]
  },
  {
   "cell_type": "code",
   "execution_count": 28,
   "id": "9929a191",
   "metadata": {
    "scrolled": true
   },
   "outputs": [
    {
     "data": {
      "application/vnd.jupyter.widget-view+json": {
       "model_id": "ae2bbcdd05864378bd2ebc852e2588db",
       "version_major": 2,
       "version_minor": 0
      },
      "text/plain": [
       "Canvas(toolbar=Toolbar(toolitems=[('Home', 'Reset original view', 'home', 'home'), ('Back', 'Back to previous …"
      ]
     },
     "metadata": {},
     "output_type": "display_data"
    },
    {
     "data": {
      "text/plain": [
       "[<matplotlib.lines.Line2D at 0x7f92de591460>]"
      ]
     },
     "execution_count": 28,
     "metadata": {},
     "output_type": "execute_result"
    }
   ],
   "source": [
    "fig = plt.figure()\n",
    "plt.plot(np.sin(np.linspace(0, 20, 100)))"
   ]
  },
  {
   "cell_type": "code",
   "execution_count": 18,
   "id": "9fd77469",
   "metadata": {},
   "outputs": [],
   "source": [
    "# ukrycie nagłówka \"Figure 1\"\n",
    "fig.canvas.header_visible = False\n",
    "# fig.canvas.toolbar_visible = False\n",
    "# fig.canvas.resizable = True"
   ]
  },
  {
   "cell_type": "code",
   "execution_count": 23,
   "id": "33223928",
   "metadata": {},
   "outputs": [],
   "source": [
    "# wyczyszczenie figury\n",
    "fig.clear()"
   ]
  },
  {
   "cell_type": "code",
   "execution_count": 2,
   "id": "64053b91",
   "metadata": {},
   "outputs": [
    {
     "name": "stdout",
     "output_type": "stream",
     "text": [
      "             0   1\n",
      "0        Piotr  30\n",
      "1       Michał  31\n",
      "2          Ewa   3\n",
      "3       Michał  21\n",
      "4       Maciej  22\n",
      "..         ...  ..\n",
      "61      Damian  25\n",
      "62       Paweł   3\n",
      "63  Aleksandra  27\n",
      "64      Rudolf  26\n",
      "65       Paweł  36\n",
      "\n",
      "[66 rows x 2 columns]\n",
      "<class 'pandas.core.frame.DataFrame'>\n",
      "RangeIndex: 66 entries, 0 to 65\n",
      "Data columns (total 2 columns):\n",
      " #   Column  Non-Null Count  Dtype \n",
      "---  ------  --------------  ----- \n",
      " 0   0       66 non-null     object\n",
      " 1   1       66 non-null     int64 \n",
      "dtypes: int64(1), object(1)\n",
      "memory usage: 1.2+ KB\n"
     ]
    }
   ],
   "source": [
    "import pandas as pd\n",
    "# url: https://raw.githubusercontent.com/plotly/datasets/master/tips.csv\n",
    "# df = pd.read_csv(\"tips.csv\")\n",
    "df = pd.read_csv(\"../dane/pisemne.csv\", header=None, sep=\";\")\n",
    "print(df)\n",
    "df.info()"
   ]
  },
  {
   "cell_type": "code",
   "execution_count": 22,
   "id": "15b31634",
   "metadata": {},
   "outputs": [
    {
     "data": {
      "text/plain": [
       "<AxesSubplot:xlabel='total_bill', ylabel='tip'>"
      ]
     },
     "execution_count": 22,
     "metadata": {},
     "output_type": "execute_result"
    }
   ],
   "source": [
    "# wykres serii total_bill\n",
    "df['total_bill'].plot()"
   ]
  },
  {
   "cell_type": "code",
   "execution_count": 31,
   "id": "afe82a2a",
   "metadata": {},
   "outputs": [
    {
     "data": {
      "application/vnd.jupyter.widget-view+json": {
       "model_id": "1ff924da5a204244b55e572d33e583d3",
       "version_major": 2,
       "version_minor": 0
      },
      "text/plain": [
       "Canvas(toolbar=Toolbar(toolitems=[('Home', 'Reset original view', 'home', 'home'), ('Back', 'Back to previous …"
      ]
     },
     "metadata": {},
     "output_type": "display_data"
    }
   ],
   "source": [
    "# wykresy serii osobno\n",
    "axs = df[['total_bill', 'tip']].plot.area(figsize=(10, 4), subplots=True)"
   ]
  },
  {
   "cell_type": "code",
   "execution_count": 26,
   "id": "9eff197e",
   "metadata": {},
   "outputs": [
    {
     "data": {
      "application/vnd.jupyter.widget-view+json": {
       "model_id": "ffde5e6105514dd8b627bd127fdc04c3",
       "version_major": 2,
       "version_minor": 0
      },
      "text/plain": [
       "Canvas(toolbar=Toolbar(toolitems=[('Home', 'Reset original view', 'home', 'home'), ('Back', 'Back to previous …"
      ]
     },
     "metadata": {},
     "output_type": "display_data"
    },
    {
     "data": {
      "text/plain": [
       "<AxesSubplot:xlabel='total_bill', ylabel='tip'>"
      ]
     },
     "execution_count": 26,
     "metadata": {},
     "output_type": "execute_result"
    }
   ],
   "source": [
    "# wykres zależności total_bill(x) i tip(y)\n",
    "fig.clear()\n",
    "df.plot.scatter(x='total_bill', y='tip', alpha=0.5)"
   ]
  },
  {
   "cell_type": "code",
   "execution_count": 25,
   "id": "47495631",
   "metadata": {},
   "outputs": [],
   "source": [
    "# Matplotlib Scatter Plot\n",
    "plt.scatter('total_bill', 'tip', data=df)\n",
    "plt.xlabel('Total Bill')\n",
    "plt.ylabel('Tip')\n",
    "# linia trendu\n",
    "x = df['total_bill']\n",
    "z = np.polyfit(x, df['tip'], 1)\n",
    "p = np.poly1d(z)\n",
    "plt.plot(x, p(x), \"k-\")\n",
    "plt.show()"
   ]
  },
  {
   "cell_type": "code",
   "execution_count": null,
   "id": "388616c4",
   "metadata": {},
   "outputs": [],
   "source": []
  }
 ],
 "metadata": {
  "kernelspec": {
   "display_name": "Python 3",
   "language": "python",
   "name": "python3"
  },
  "language_info": {
   "codemirror_mode": {
    "name": "ipython",
    "version": 3
   },
   "file_extension": ".py",
   "mimetype": "text/x-python",
   "name": "python",
   "nbconvert_exporter": "python",
   "pygments_lexer": "ipython3",
   "version": "3.8.5"
  }
 },
 "nbformat": 4,
 "nbformat_minor": 5
}
